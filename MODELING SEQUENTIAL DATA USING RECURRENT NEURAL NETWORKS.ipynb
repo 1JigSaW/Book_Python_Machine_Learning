{
 "cells": [
  {
   "cell_type": "code",
   "execution_count": 2,
   "metadata": {},
   "outputs": [
    {
     "name": "stdout",
     "output_type": "stream",
     "text": [
      "W_xh форма: (5, 2)\n",
      "W_oo форма: (2, 2)\n",
      "b_h форма: (2,)\n"
     ]
    }
   ],
   "source": [
    "import tensorflow as tf\n",
    "tf.random.set_seed(1)\n",
    "\n",
    "rnn_layer = tf.keras.layers.SimpleRNN(\n",
    "    units=2, use_bias=True, \n",
    "    return_sequences=True)\n",
    "rnn_layer.build(input_shape=(None, None, 5))\n",
    "\n",
    "w_xh, w_oo, b_h = rnn_layer.weights\n",
    "\n",
    "print('W_xh форма:', w_xh.shape)\n",
    "print('W_oo форма:', w_oo.shape)\n",
    "print('b_h форма:', b_h.shape)"
   ]
  },
  {
   "cell_type": "code",
   "execution_count": 3,
   "metadata": {},
   "outputs": [
    {
     "name": "stdout",
     "output_type": "stream",
     "text": [
      "Временной шаг 0 =>\n",
      "   Вход           : [[1. 1. 1. 1. 1.]]\n",
      "   Скрытый слой          : [[0.41464037 0.96012145]]\n",
      "   Выход : [[0.39240566 0.74433106]]\n",
      "   SimpleRNN выход: [0.39240566 0.74433106]\n",
      "\n",
      "Временной шаг 1 =>\n",
      "   Вход           : [[2. 2. 2. 2. 2.]]\n",
      "   Скрытый слой          : [[0.82928073 1.9202429 ]]\n",
      "   Выход : [[0.80116504 0.9912947 ]]\n",
      "   SimpleRNN выход: [0.80116504 0.9912947 ]\n",
      "\n",
      "Временной шаг 2 =>\n",
      "   Вход           : [[3. 3. 3. 3. 3.]]\n",
      "   Скрытый слой          : [[1.243921  2.8803642]]\n",
      "   Выход : [[0.95468265 0.9993069 ]]\n",
      "   SimpleRNN выход: [0.95468265 0.9993069 ]\n",
      "\n"
     ]
    }
   ],
   "source": [
    "x_seq = tf.convert_to_tensor(\n",
    "    [[1.0]*5, [2.0]*5, [3.0]*5],\n",
    "    dtype=tf.float32)\n",
    "\n",
    "output = rnn_layer(tf.reshape(x_seq, shape=(1, 3, 5)))\n",
    "\n",
    "out_man = []\n",
    "for t in range(len(x_seq)):\n",
    "    xt = tf.reshape(x_seq[t], (1, 5))\n",
    "    print('Временной шаг {} =>'.format(t))\n",
    "    print('   Вход           :', xt.numpy())\n",
    "    \n",
    "    ht = tf.matmul(xt, w_xh) + b_h    \n",
    "    print('   Скрытый слой          :', ht.numpy())\n",
    "    \n",
    "    if t>0:\n",
    "        prev_o = out_man[t-1]\n",
    "    else:\n",
    "        prev_o = tf.zeros(shape=(ht.shape))\n",
    "        \n",
    "    ot = ht + tf.matmul(prev_o, w_oo)\n",
    "    ot = tf.math.tanh(ot)\n",
    "    out_man.append(ot)\n",
    "    print('   Выход :', ot.numpy())\n",
    "    print('   SimpleRNN выход:'.format(t), output[0][t].numpy())\n",
    "    print()"
   ]
  },
  {
   "cell_type": "code",
   "execution_count": null,
   "metadata": {},
   "outputs": [],
   "source": []
  }
 ],
 "metadata": {
  "kernelspec": {
   "display_name": "Python 3",
   "language": "python",
   "name": "python3"
  },
  "language_info": {
   "codemirror_mode": {
    "name": "ipython",
    "version": 3
   },
   "file_extension": ".py",
   "mimetype": "text/x-python",
   "name": "python",
   "nbconvert_exporter": "python",
   "pygments_lexer": "ipython3",
   "version": "3.8.3"
  }
 },
 "nbformat": 4,
 "nbformat_minor": 4
}
